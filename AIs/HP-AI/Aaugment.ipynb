{
 "cells": [
  {
   "cell_type": "code",
   "execution_count": 1,
   "metadata": {},
   "outputs": [
    {
     "name": "stderr",
     "output_type": "stream",
     "text": [
      "Enabling notebook extension jupyter-js-widgets/extension...\n",
      "      - Validating: ok\n"
     ]
    }
   ],
   "source": [
    "!jupyter nbextension enable --py widgetsnbextension\n",
    "import random as rd\n",
    "import os\n",
    "import torch\n",
    "from PIL import Image\n",
    "from tqdm import tqdm\n",
    "import numpy as np\n",
    "from datasets import load_dataset,load_metric,DatasetDict,concatenate_datasets,config\n",
    "from datasets import Image as DImage\n",
    "from transformers import ViTFeatureExtractor, ViTModel, ViTForImageClassification, TrainingArguments, Trainer, integrations\n",
    "\n",
    "device = \"cuda\" if torch.cuda.is_available() else \"cpu\""
   ]
  },
  {
   "cell_type": "code",
   "execution_count": null,
   "metadata": {},
   "outputs": [],
   "source": [
    "from datasets import load_dataset,load_metric,DatasetDict,Dataset,Image\n",
    "ds = load_dataset(\"imagefolder\",data_dir='./Data')\n",
    "labels = ds['train'].features['label'].names"
   ]
  },
  {
   "cell_type": "code",
   "execution_count": 3,
   "metadata": {},
   "outputs": [
    {
     "data": {
      "text/plain": [
       "['bacterial_spot',\n",
       " 'black_rot',\n",
       " 'black_spot',\n",
       " 'blight',\n",
       " 'brown_spot_fungi',\n",
       " 'brown_streak',\n",
       " 'canker',\n",
       " 'fungi_spot',\n",
       " 'gray_spot',\n",
       " 'green_mottle',\n",
       " 'greening',\n",
       " 'healthy',\n",
       " 'hispa',\n",
       " 'isariopis_spot',\n",
       " 'leaf_blast',\n",
       " 'measeles',\n",
       " 'mold',\n",
       " 'mosaic',\n",
       " 'powdery_mildew',\n",
       " 'rust',\n",
       " 'scab',\n",
       " 'scorch',\n",
       " 'spider_mites',\n",
       " 'target_spot',\n",
       " 'yellow_curl']"
      ]
     },
     "metadata": {},
     "output_type": "display_data"
    }
   ],
   "source": [
    "display(labels)\n",
    "def same_label(example,lbl):\n",
    "    ls = []\n",
    "    # display(example)\n",
    "    for val in example['label']:\n",
    "        ls.append(val==lbl)\n",
    "    return ls"
   ]
  },
  {
   "cell_type": "code",
   "execution_count": 9,
   "metadata": {},
   "outputs": [
    {
     "data": {
      "text/plain": [
       "['scab', 'scorch', 'spider_mites', 'target_spot', 'yellow_curl']"
      ]
     },
     "execution_count": 9,
     "metadata": {},
     "output_type": "execute_result"
    }
   ],
   "source": [
    "#[labels[lb] for lb in range(20,len(labels))]"
   ]
  },
  {
   "cell_type": "code",
   "execution_count": null,
   "metadata": {},
   "outputs": [],
   "source": [
    "ds_list = DatasetDict()\n",
    "# for label in (range(20,len(labels))):\n",
    "for label in (range(0,len(labels))):\n",
    "    ds_list[labels[label]]=ds.filter(same_label, batched=True,batch_size=10000,fn_kwargs={'lbl':label},num_proc =8)['train']\n",
    "ds_list"
   ]
  },
  {
   "cell_type": "code",
   "execution_count": null,
   "metadata": {},
   "outputs": [],
   "source": [
    "# import torchvision.transforms as ttr\n",
    "# # from math import floor\n",
    "\n",
    "# map_fun = ttr.Compose(\n",
    "#     [ttr.RandomHorizontalFlip(),ttr.RandomRotation(180,fill=255),ttr.GaussianBlur(9,sigma=(0.01,2.0))]\n",
    "# )\n",
    "\n",
    "# def map_red_fun(exp_batch,times=1,mp_fn=map_fun):# batch: Dict[str, List]) -> Dict[str, List]\n",
    "#     itms = int(times)\n",
    "#     ltms = int((times-int(times))*len(exp_batch['label']))\n",
    "#     print(\"times:\",itms,ltms)#,times,times-floor(times),len(exp_batch['label']))\n",
    "    \n",
    "    \n",
    "#     if(times<1):\n",
    "#         # return {\n",
    "#         # 'image': exp_batch['image'][:ltms]\n",
    "#         # 'label': exp_batch['label'][:ltms]\n",
    "#         # }\n",
    "#         return exp_batch[:ltms]\n",
    "#     elif(times==1):\n",
    "#         return exp_batch\n",
    "#     else:\n",
    "#         images = list(exp_batch['image'])\n",
    "#         lbls = exp_batch['label']\n",
    "#         if itms>1:    \n",
    "#             for i in range(itms-1):\n",
    "#                 images += [mp_fn(img).convert('RGB') for img in exp_batch['image']]\n",
    "#             lbls += exp_batch['label']*(itms-1)\n",
    "#         if(ltms>0):\n",
    "#             images += [mp_fn(img).convert('RGB') for img in exp_batch['image'][:ltms]]\n",
    "#             lbls += exp_batch['label'][:ltms]\n",
    "    \n",
    "#         return {\n",
    "#             'image':images,\n",
    "#             'label':lbls\n",
    "#         }\n",
    "        "
   ]
  },
  {
   "cell_type": "code",
   "execution_count": null,
   "metadata": {},
   "outputs": [],
   "source": [
    "files = os.listdir(\"./Data/\")\n",
    "for lbl in files:\n",
    "    if not os.path.isdir(\"./NData/\"+lbl+\"/\"):\n",
    "        os.mkdir(\"./NData/\"+lbl+\"/\")"
   ]
  },
  {
   "cell_type": "code",
   "execution_count": 11,
   "metadata": {},
   "outputs": [],
   "source": [
    "import torchvision.transforms as ttr\n",
    "# from math import floor\n",
    "\n",
    "map_fun = ttr.Compose(\n",
    "    [ttr.RandomHorizontalFlip(),ttr.RandomRotation(180,fill=255),ttr.GaussianBlur(9,sigma=(0.01,2.0))]\n",
    ")\n",
    "\n",
    "def save_fun(zhelabel,img,ldx):\n",
    "    img.save(\"./NData/\"+zhelabel+\"/Augmented_\"+str(ldx)+\".png\")\n",
    "\n",
    "def map_save_fun(exp_batch,idxs,zhelabel,times=1,sv_fn=save_fun,mp_fn=map_fun):# batch: Dict[str, List]) -> Dict[str, List]\n",
    "    itms = int(times)\n",
    "    ltms = int((times-int(times))*len(exp_batch['label']))\n",
    "    print(\"times:\",itms,ltms)#,times,times-floor(times),len(exp_batch['label']))\n",
    "    ldx= idxs[0]*100000\n",
    "    \n",
    "    if(times<=1):\n",
    "        # return {\n",
    "        # 'image': exp_batch['image'][:ltms]\n",
    "        # 'label': exp_batch['label'][:ltms]\n",
    "        # }\n",
    "        for idx,img in enumerate(exp_batch['image']):\n",
    "            if(idx<ltms):\n",
    "                sv_fn(zhelabel,img.convert('RGB'),ldx)\n",
    "                ldx+=1\n",
    "            \n",
    "        # return exp_batch[:ltms]\n",
    "    else:\n",
    "        images = list(exp_batch['image'])\n",
    "        for img in exp_batch['image']:\n",
    "            sv_fn(zhelabel,img.convert('RGB'),ldx)\n",
    "            ldx+=1\n",
    "        \n",
    "        if itms>1:    \n",
    "            for i in range(itms-1):\n",
    "                for img in exp_batch['image']:\n",
    "                    sv_fn(zhelabel,mp_fn(img).convert('RGB'),ldx)\n",
    "                    ldx+=1\n",
    "                # images += [mp_fn(img).convert('RGB') for img in exp_batch['image']]\n",
    "        if(ltms>0):\n",
    "            for idx,img in enumerate(exp_batch['image']):\n",
    "                if(idx<ltms):\n",
    "                    sv_fn(zhelabel,mp_fn(img).convert('RGB'),ldx)\n",
    "                    ldx+=1\n",
    "            # images += [mp_fn(img).convert('RGB') for img in exp_batch['image'][:ltms]]\n",
    "\n",
    "    \n",
    "        # return {\n",
    "        #     'image':images,\n",
    "        #     'label':lbls\n",
    "        # }\n",
    "    return exp_batch\n",
    "\n"
   ]
  },
  {
   "cell_type": "code",
   "execution_count": 14,
   "metadata": {},
   "outputs": [
    {
     "data": {
      "text/plain": [
       "'scab'"
      ]
     },
     "execution_count": 14,
     "metadata": {},
     "output_type": "execute_result"
    }
   ],
   "source": [
    "labels[20]"
   ]
  },
  {
   "cell_type": "code",
   "execution_count": null,
   "metadata": {},
   "outputs": [],
   "source": [
    "# for dss in labels[20:]:\n",
    "for dss in labels:\n",
    "    # display(str(ds_list[dss].shape[0])+' : '+str(40000/ds_list[dss].shape[0])+' = '+str(int(40000/ds_list[dss].shape[0]\n",
    "    #                                                                                         ) + int((40000/ds_list[dss].shape[0]-int(40000/ds_list[dss].shape[0]))*len(ds_list[dss].shape[0]))))\n",
    "    # aug_ds_list[dss]=ds_list[dss].map(map_red_fun,batched=True,batch_size=40,num_proc=8,fn_kwargs={'times':40000/ds_list[dss].shape[0],'mp_fn':map_fun})\n",
    "    ds_list[dss].map(map_save_fun, batched=True, with_indices=True, batch_size=40, num_proc=8, fn_kwargs={\n",
    "                     'times': 40000/ds_list[dss].shape[0], 'sv_fn': save_fun, 'zhelabel': dss,'mp_fn':map_fun})\n",
    "    # display(aug_ds_list[dss])\n",
    "# aug_ds_list\n"
   ]
  },
  {
   "cell_type": "code",
   "execution_count": null,
   "metadata": {},
   "outputs": [],
   "source": [
    "dss = labels[20]\n",
    "ds_list[dss].map(map_save_fun, batched=True, with_indices=True, batch_size=10, num_proc=4, fn_kwargs={\n",
    "                     'times': 40000/ds_list[dss].shape[0], 'sv_fn': save_fun, 'zhelabel': dss,'mp_fn':map_fun})"
   ]
  }
 ],
 "metadata": {
  "kernelspec": {
   "display_name": "aistuff",
   "language": "python",
   "name": "python3"
  },
  "language_info": {
   "codemirror_mode": {
    "name": "ipython",
    "version": 3
   },
   "file_extension": ".py",
   "mimetype": "text/x-python",
   "name": "python",
   "nbconvert_exporter": "python",
   "pygments_lexer": "ipython3",
   "version": "3.8.16"
  },
  "orig_nbformat": 4,
  "vscode": {
   "interpreter": {
    "hash": "dbc2209a946fd3d4b71ca67e9c8811ea9308624c3a394a48d8e2c3e0d52f1db8"
   }
  }
 },
 "nbformat": 4,
 "nbformat_minor": 2
}
