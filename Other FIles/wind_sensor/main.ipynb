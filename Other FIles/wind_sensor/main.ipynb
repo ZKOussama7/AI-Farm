{
 "cells": [
  {
   "cell_type": "code",
   "execution_count": 48,
   "metadata": {},
   "outputs": [],
   "source": [
    "import matplotlib.pyplot as plt\n",
    "import math"
   ]
  },
  {
   "cell_type": "code",
   "execution_count": 49,
   "metadata": {},
   "outputs": [],
   "source": [
    "a1=1.29677\n",
    "b1=1.98710\n",
    "a2=1.33540\n",
    "b2=2.07742\n",
    "ma=(a1+a2)/2\n",
    "mb=(b1+b2)/2\n",
    "d1=b1-a1\n",
    "d2=b2-a2\n",
    "md=(mb-ma)/2\n",
    "mm=(mb+ma)/2\n",
    "x1,x2=0,0\n",
    "mode = max(a1,b1,a2,b2)==b2\n",
    "if not mode:\n",
    "    b1,b2=b2,b1\n",
    "if not (a1 < a2 and a2 < b1 and b1 < b2):\n",
    "    print(\"error\")\n",
    "    exit(0)"
   ]
  },
  {
   "cell_type": "code",
   "execution_count": 50,
   "metadata": {},
   "outputs": [],
   "source": [
    "def f(x,mm,md,x1,x2):\n",
    "    return mm+x2*math.sin(x/2)+(1+x1*math.sin(x/2))*md*math.sin(x)"
   ]
  },
  {
   "cell_type": "code",
   "execution_count": 51,
   "metadata": {},
   "outputs": [],
   "source": [
    "def map_val(value, leftMin, leftMax, rightMin, rightMax):\n",
    "    # Figure out how 'wide' each range is\n",
    "    leftSpan = leftMax - leftMin\n",
    "    rightSpan = rightMax - rightMin\n",
    "\n",
    "    # Convert the left range into a 0-1 range (float)\n",
    "    valueScaled = float(value - leftMin) / float(leftSpan)\n",
    "\n",
    "    # Convert the 0-1 range into a value in the right range.\n",
    "    return rightMin + (valueScaled * rightSpan)\n",
    "# map_val(125,0,1000,-math.pi/2,math.pi/2)"
   ]
  },
  {
   "cell_type": "code",
   "execution_count": 52,
   "metadata": {},
   "outputs": [],
   "source": [
    "x =[map_val(xi,0,2000,-2*math.pi,2*math.pi) for xi in range(2001)]\n",
    "y =[f(xi,mm,md,0,0) for xi in x]"
   ]
  },
  {
   "cell_type": "code",
   "execution_count": 53,
   "metadata": {},
   "outputs": [
    {
     "data": {
      "text/plain": [
       "[<matplotlib.lines.Line2D at 0x23e33124d60>]"
      ]
     },
     "execution_count": 53,
     "metadata": {},
     "output_type": "execute_result"
    },
    {
     "data": {
      "image/png": "[encoded data removed]",
      "text/plain": [
       "<Figure size 640x480 with 1 Axes>"
      ]
     },
     "metadata": {},
     "output_type": "display_data"
    }
   ],
   "source": [
    "plt.plot(x,y)"
   ]
  },
  {
   "cell_type": "code",
   "execution_count": 54,
   "metadata": {},
   "outputs": [],
   "source": [
    "def bisection_method(f, a, b, tol=1e-8, max_iter=258):\n",
    "    \"\"\"\n",
    "    Find a root of the function f in the interval [a, b] using the bisection method.\n",
    "\n",
    "    Parameters:\n",
    "    f (function): The function for which we want to find a root.\n",
    "    a (float): The left endpoint of the interval.\n",
    "    b (float): The right endpoint of the interval.\n",
    "    tol (float, optional): The desired accuracy of the root. Default is 1e-8.\n",
    "    max_iter (int, optional): The maximum number of iterations to perform. Default is 100.\n",
    "\n",
    "    Returns:\n",
    "    float: An approximation to the root of f in the interval [a, b].\n",
    "    \"\"\"\n",
    "    if abs(f(a)) <tol:\n",
    "        return a\n",
    "    if abs(f(b)) < tol:\n",
    "        return b\n",
    "        \n",
    "    if f(a) * f(b) >= 0:\n",
    "        raise ValueError(\"f(a) and f(b) must have opposite signs\")\n",
    "    # Perform bisection method\n",
    "    for i in range(max_iter):\n",
    "        c = (a + b) / 2\n",
    "        if abs(f(c)) < tol:\n",
    "            return c\n",
    "        elif f(a) * f(c) < 0:\n",
    "            b = c\n",
    "        else:\n",
    "            a = c\n",
    "    # If max_iter is reached, return the best approximation\n",
    "    return (a + b) / 2\n"
   ]
  },
  {
   "cell_type": "code",
   "execution_count": 55,
   "metadata": {},
   "outputs": [],
   "source": [
    "\n",
    "def f_x2():\n",
    "    global mm,md,d2\n",
    "    solver = lambda xi: (f(math.pi/2,mm,md,0,xi)-f(-math.pi/2,mm,md,0,xi))-d2\n",
    "    return bisection_method(solver,0,1,1e-12,64)\n",
    "\n",
    "\n",
    "def f_x1():\n",
    "    global mm,md,x2,b2\n",
    "    solver = lambda x: f(math.pi/2,mm,md,x,x2)-b2\n",
    "    return bisection_method(solver,0,math.pi,1e-12,64)\n",
    "\n",
    "\n",
    "def f_x(y,stp):\n",
    "    global mm,md,x1,x2\n",
    "    solver  = lambda x: f(x,mm,md,x1,x2)-y\n",
    "    mn = 0\n",
    "    mx = 0\n",
    "    if stp == 0:\n",
    "        mn = 3*math.pi/2\n",
    "        mx = 5*math.pi/2\n",
    "    if stp == 1:\n",
    "        mn = -3*math.pi/2\n",
    "        mx = -math.pi/2\n",
    "    if stp == 2:\n",
    "        mn = -math.pi/2\n",
    "        mx = math.pi/2\n",
    "    if stp == 3:\n",
    "        mn = math.pi/2\n",
    "        mx = 3*math.pi/2\n",
    "    \n",
    "    return (bisection_method(solver,mn,mx,1e-10,64)-mn)*180/math.pi\n"
   ]
  },
  {
   "cell_type": "code",
   "execution_count": 56,
   "metadata": {},
   "outputs": [],
   "source": [
    "\n",
    "x2=f_x2()"
   ]
  },
  {
   "cell_type": "code",
   "execution_count": 57,
   "metadata": {},
   "outputs": [
    {
     "data": {
      "text/plain": [
       "-1.7763568394002505e-15"
      ]
     },
     "execution_count": 57,
     "metadata": {},
     "output_type": "execute_result"
    }
   ],
   "source": [
    "(f(math.pi/2,mm,md,0,x2)-f(-math.pi/2,mm,md,0,x2))-d2\n"
   ]
  },
  {
   "cell_type": "code",
   "execution_count": 58,
   "metadata": {},
   "outputs": [],
   "source": [
    "x1=f_x1()"
   ]
  },
  {
   "cell_type": "code",
   "execution_count": 59,
   "metadata": {},
   "outputs": [
    {
     "data": {
      "text/plain": [
       "-1.936228954946273e-13"
      ]
     },
     "execution_count": 59,
     "metadata": {},
     "output_type": "execute_result"
    }
   ],
   "source": [
    "f(math.pi/2,mm,md,x1,x2)-b2"
   ]
  },
  {
   "cell_type": "code",
   "execution_count": 60,
   "metadata": {},
   "outputs": [
    {
     "data": {
      "text/plain": [
       "148.90782077796757"
      ]
     },
     "execution_count": 60,
     "metadata": {},
     "output_type": "execute_result"
    }
   ],
   "source": [
    "f_x(2.009,2)"
   ]
  },
  {
   "cell_type": "code",
   "execution_count": null,
   "metadata": {},
   "outputs": [],
   "source": []
  }
 ],
 "metadata": {
  "kernelspec": {
   "display_name": "env1",
   "language": "python",
   "name": "python3"
  },
  "language_info": {
   "codemirror_mode": {
    "name": "ipython",
    "version": 3
   },
   "file_extension": ".py",
   "mimetype": "text/x-python",
   "name": "python",
   "nbconvert_exporter": "python",
   "pygments_lexer": "ipython3",
   "version": "3.8.16"
  },
  "orig_nbformat": 4,
  "vscode": {
   "interpreter": {
    "hash": "7d237d29efc1f537e6f35beb317b51eb17e888a5a8e368a44152e102437cec39"
   }
  }
 },
 "nbformat": 4,
 "nbformat_minor": 2
}
